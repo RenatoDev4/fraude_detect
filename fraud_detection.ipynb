{
 "cells": [
  {
   "cell_type": "code",
   "execution_count": 1,
   "metadata": {},
   "outputs": [],
   "source": [
    "import pandas as pd, numpy as np, matplotlib.pyplot as plt, seaborn as sns, plotly.express as px\n",
    "from sklearn.preprocessing import StandardScaler\n",
    "from sklearn.model_selection import train_test_split\n",
    "from sklearn.ensemble import (RandomForestClassifier, AdaBoostClassifier,\n",
    "                              GradientBoostingClassifier)\n",
    "from sklearn.metrics import (accuracy_score, precision_score, confusion_matrix, recall_score,\n",
    "                             f1_score)"
   ]
  },
  {
   "cell_type": "code",
   "execution_count": 2,
   "metadata": {},
   "outputs": [],
   "source": [
    "data = pd.read_csv('data/raw_data.csv')"
   ]
  },
  {
   "cell_type": "code",
   "execution_count": 3,
   "metadata": {},
   "outputs": [
    {
     "data": {
      "text/html": [
       "<div>\n",
       "<style scoped>\n",
       "    .dataframe tbody tr th:only-of-type {\n",
       "        vertical-align: middle;\n",
       "    }\n",
       "\n",
       "    .dataframe tbody tr th {\n",
       "        vertical-align: top;\n",
       "    }\n",
       "\n",
       "    .dataframe thead th {\n",
       "        text-align: right;\n",
       "    }\n",
       "</style>\n",
       "<table border=\"1\" class=\"dataframe\">\n",
       "  <thead>\n",
       "    <tr style=\"text-align: right;\">\n",
       "      <th></th>\n",
       "      <th>distance_from_home</th>\n",
       "      <th>distance_from_last_transaction</th>\n",
       "      <th>ratio_to_median_purchase_price</th>\n",
       "      <th>repeat_retailer</th>\n",
       "      <th>used_chip</th>\n",
       "      <th>used_pin_number</th>\n",
       "      <th>online_order</th>\n",
       "      <th>fraud</th>\n",
       "    </tr>\n",
       "  </thead>\n",
       "  <tbody>\n",
       "    <tr>\n",
       "      <th>0</th>\n",
       "      <td>57.877857</td>\n",
       "      <td>0.311140</td>\n",
       "      <td>1.945940</td>\n",
       "      <td>1.0</td>\n",
       "      <td>1.0</td>\n",
       "      <td>0.0</td>\n",
       "      <td>0.0</td>\n",
       "      <td>0.0</td>\n",
       "    </tr>\n",
       "    <tr>\n",
       "      <th>1</th>\n",
       "      <td>10.829943</td>\n",
       "      <td>0.175592</td>\n",
       "      <td>1.294219</td>\n",
       "      <td>1.0</td>\n",
       "      <td>0.0</td>\n",
       "      <td>0.0</td>\n",
       "      <td>0.0</td>\n",
       "      <td>0.0</td>\n",
       "    </tr>\n",
       "    <tr>\n",
       "      <th>2</th>\n",
       "      <td>5.091079</td>\n",
       "      <td>0.805153</td>\n",
       "      <td>0.427715</td>\n",
       "      <td>1.0</td>\n",
       "      <td>0.0</td>\n",
       "      <td>0.0</td>\n",
       "      <td>1.0</td>\n",
       "      <td>0.0</td>\n",
       "    </tr>\n",
       "    <tr>\n",
       "      <th>3</th>\n",
       "      <td>2.247564</td>\n",
       "      <td>5.600044</td>\n",
       "      <td>0.362663</td>\n",
       "      <td>1.0</td>\n",
       "      <td>1.0</td>\n",
       "      <td>0.0</td>\n",
       "      <td>1.0</td>\n",
       "      <td>0.0</td>\n",
       "    </tr>\n",
       "    <tr>\n",
       "      <th>4</th>\n",
       "      <td>44.190936</td>\n",
       "      <td>0.566486</td>\n",
       "      <td>2.222767</td>\n",
       "      <td>1.0</td>\n",
       "      <td>1.0</td>\n",
       "      <td>0.0</td>\n",
       "      <td>1.0</td>\n",
       "      <td>0.0</td>\n",
       "    </tr>\n",
       "  </tbody>\n",
       "</table>\n",
       "</div>"
      ],
      "text/plain": [
       "   distance_from_home  distance_from_last_transaction  \\\n",
       "0           57.877857                        0.311140   \n",
       "1           10.829943                        0.175592   \n",
       "2            5.091079                        0.805153   \n",
       "3            2.247564                        5.600044   \n",
       "4           44.190936                        0.566486   \n",
       "\n",
       "   ratio_to_median_purchase_price  repeat_retailer  used_chip  \\\n",
       "0                        1.945940              1.0        1.0   \n",
       "1                        1.294219              1.0        0.0   \n",
       "2                        0.427715              1.0        0.0   \n",
       "3                        0.362663              1.0        1.0   \n",
       "4                        2.222767              1.0        1.0   \n",
       "\n",
       "   used_pin_number  online_order  fraud  \n",
       "0              0.0           0.0    0.0  \n",
       "1              0.0           0.0    0.0  \n",
       "2              0.0           1.0    0.0  \n",
       "3              0.0           1.0    0.0  \n",
       "4              0.0           1.0    0.0  "
      ]
     },
     "execution_count": 3,
     "metadata": {},
     "output_type": "execute_result"
    }
   ],
   "source": [
    "data.head()"
   ]
  },
  {
   "cell_type": "code",
   "execution_count": 4,
   "metadata": {},
   "outputs": [],
   "source": [
    "# Separação dos dados entre treino e teste\n",
    "\n",
    "train, test = train_test_split(data, test_size=0.3, random_state=42)\n",
    "X_train = train.drop(columns=['fraud'])\n",
    "X_test = test.drop(columns=['fraud'])\n",
    "y_train = train['fraud']\n",
    "y_test = test['fraud']"
   ]
  },
  {
   "cell_type": "code",
   "execution_count": null,
   "metadata": {},
   "outputs": [],
   "source": [
    "print ( 'Tamanho do X_train: ' , X_train.shape) \n",
    "print ( 'Tamanho do X_test: ' , X_test.shape) \n",
    "print ( 'Proporção do X_test:' , \"%s%%\" % round (( len (X_test) / ( len (X_train) + len (X_test))) * 100 )) \n",
    "print ( 'Tamanho do y_train: ' , y_train.shape) \n",
    "print ( 'Tamanho do y_test:' , y_test.shape) \n",
    "print ( 'Proporção do y_test:' , \"%s%%\" % round (( len (y_test) / ( len (y_train) + len (y_test))) * 100 ))"
   ]
  },
  {
   "cell_type": "code",
   "execution_count": null,
   "metadata": {},
   "outputs": [],
   "source": [
    "# Dimensionando dados no conjunto de treinamento\n",
    "\n",
    "scaler = StandardScaler()\n",
    "X_train['distance_from_home'] = scaler.fit_transform(X_train.distance_from_home.values.reshape(-1,1))\n",
    "X_train['distance_from_last_transaction'] = scaler.fit_transform(X_train.distance_from_last_transaction.values.reshape(-1,1))\n",
    "X_train['ratio_to_median_purchase_price'] = scaler.fit_transform(X_train.ratio_to_median_purchase_price.values.reshape(-1,1))\n",
    "X_train"
   ]
  },
  {
   "cell_type": "code",
   "execution_count": null,
   "metadata": {},
   "outputs": [],
   "source": [
    "# Dimensionando dados no conjunto de teste\n",
    "\n",
    "scaler = StandardScaler()\n",
    "X_test['distance_from_home'] = scaler.fit_transform(X_test.distance_from_home.values.reshape(-1,1))\n",
    "X_test['distance_from_last_transaction'] = scaler.fit_transform(X_test.distance_from_last_transaction.values.reshape(-1,1))\n",
    "X_test['ratio_to_median_purchase_price'] = scaler.fit_transform(X_test.ratio_to_median_purchase_price.values.reshape(-1,1))\n",
    "X_test"
   ]
  },
  {
   "cell_type": "code",
   "execution_count": 5,
   "metadata": {},
   "outputs": [],
   "source": [
    "# Aplicando o Classificador de Floresta Aleatória\n",
    "random_forest = RandomForestClassifier(n_estimators = 100, random_state = 42) \n",
    "random_forest.fit(X_train, y_train) \n",
    " \n",
    "y_predictions_rf = random_forest.predict(X_test) \n",
    " \n",
    "# # Aplicando o classificador Ada Boost\n",
    "# ada_boost = AdaBoostClassifier(n_estimators = 100, random_state = 42) \n",
    "# ada_boost.fit(X_train,y_train) \n",
    " \n",
    "# y_predictions_ab = ada_boost.predict(X_test) \n",
    " \n",
    "# # Aplicando o classificador Gradient Boosting\n",
    "# gradiente_boosting = GradientBoostingClassifier (n_estimators = 100, random_state = 42) \n",
    "# gradiente_boosting.fit (X_train, y_train) \n",
    " \n",
    "# y_prediction_gb = gradiente_boosting.predict (X_test)"
   ]
  },
  {
   "cell_type": "code",
   "execution_count": 6,
   "metadata": {},
   "outputs": [
    {
     "data": {
      "text/html": [
       "<div>\n",
       "<style scoped>\n",
       "    .dataframe tbody tr th:only-of-type {\n",
       "        vertical-align: middle;\n",
       "    }\n",
       "\n",
       "    .dataframe tbody tr th {\n",
       "        vertical-align: top;\n",
       "    }\n",
       "\n",
       "    .dataframe thead th {\n",
       "        text-align: right;\n",
       "    }\n",
       "</style>\n",
       "<table border=\"1\" class=\"dataframe\">\n",
       "  <thead>\n",
       "    <tr style=\"text-align: right;\">\n",
       "      <th></th>\n",
       "      <th>Métrica</th>\n",
       "      <th>Resultados</th>\n",
       "    </tr>\n",
       "  </thead>\n",
       "  <tbody>\n",
       "    <tr>\n",
       "      <th>0</th>\n",
       "      <td>Accurary</td>\n",
       "      <td>0.999993</td>\n",
       "    </tr>\n",
       "    <tr>\n",
       "      <th>1</th>\n",
       "      <td>Precision</td>\n",
       "      <td>1.000000</td>\n",
       "    </tr>\n",
       "    <tr>\n",
       "      <th>2</th>\n",
       "      <td>Recall</td>\n",
       "      <td>0.999923</td>\n",
       "    </tr>\n",
       "    <tr>\n",
       "      <th>3</th>\n",
       "      <td>F1_score</td>\n",
       "      <td>0.999962</td>\n",
       "    </tr>\n",
       "  </tbody>\n",
       "</table>\n",
       "</div>"
      ],
      "text/plain": [
       "     Métrica  Resultados\n",
       "0   Accurary    0.999993\n",
       "1  Precision    1.000000\n",
       "2     Recall    0.999923\n",
       "3   F1_score    0.999962"
      ]
     },
     "execution_count": 6,
     "metadata": {},
     "output_type": "execute_result"
    }
   ],
   "source": [
    "# Métricas de avaliação para\n",
    "\n",
    "random_forest_metric = [['Accurary', (accuracy_score(y_test, y_predictions_rf))],\n",
    "                        ['Precision', (precision_score(y_test, y_predictions_rf))],\n",
    "                        ['Recall', (recall_score(y_test, y_predictions_rf))],\n",
    "                        ['F1_score', f1_score(y_test, y_predictions_rf)]]\n",
    "\n",
    "metricas_rf = pd.DataFrame(random_forest_metric, columns=[\"Métrica\", \"Resultados\"])\n",
    "metricas_rf"
   ]
  },
  {
   "cell_type": "code",
   "execution_count": 7,
   "metadata": {},
   "outputs": [
    {
     "data": {
      "image/png": "[encoded data removed]",
      "text/plain": [
       "<Figure size 1000x700 with 2 Axes>"
      ]
     },
     "metadata": {},
     "output_type": "display_data"
    }
   ],
   "source": [
    "# Matriz de confusão para Random Forest\n",
    "\n",
    "confusion_matrix_rf = confusion_matrix(y_test, y_predictions_rf)\n",
    "\n",
    "# Visualização\n",
    "\n",
    "plt.figure(figsize=(10, 7))\n",
    "ax = plt.subplot()\n",
    "sns.heatmap(confusion_matrix_rf, annot=True, fmt=\"g\", ax= ax)\n",
    "ax.set_xlabel( 'Valores Previstos' ) \n",
    "ax.set_ylabel( 'Valores Reais' ) \n",
    "ax.set_title( 'Matriz de Confusão - Floresta Aleatória' ) \n",
    "ax.xaxis.set_ticklabels([ 'Genuíno' , 'Fraude' ]) \n",
    "ax.yaxis.set_ticklabels([ 'Genuíno' , 'Fraude' ]) \n",
    "plt.show()"
   ]
  },
  {
   "cell_type": "code",
   "execution_count": null,
   "metadata": {},
   "outputs": [],
   "source": [
    "# Métricas de avaliação para\n",
    "\n",
    "ab_metric = [['Accurary', (accuracy_score(y_test, y_predictions_ab))],\n",
    "                        ['Precision', (precision_score(y_test, y_predictions_ab))],\n",
    "                        ['Recall', (recall_score(y_test, y_predictions_ab))],\n",
    "                        ['F1_score', f1_score(y_test, y_predictions_ab)]]\n",
    "\n",
    "metricas_ab = pd.DataFrame(ab_metric, columns=[\"Métrica\", \"Resultados\"])\n",
    "metricas_ab"
   ]
  },
  {
   "cell_type": "code",
   "execution_count": null,
   "metadata": {},
   "outputs": [],
   "source": [
    "# Matriz de confusão para Ada Boost\n",
    "\n",
    "confusion_matrix_ab = confusion_matrix(y_test, y_predictions_ab)\n",
    "\n",
    "# Visualização\n",
    "\n",
    "plt.figure(figsize=(10, 7))\n",
    "ax = plt.subplot()\n",
    "sns.heatmap(confusion_matrix_ab, annot=True, fmt=\"g\", ax= ax)\n",
    "ax.set_xlabel( 'Valores Previstos' ) \n",
    "ax.set_ylabel( 'Valores Reais' ) \n",
    "ax.set_title( 'Matriz de Confusão - Ada Boost' ) \n",
    "ax.xaxis.set_ticklabels([ 'Genuíno' , 'Fraude' ]) \n",
    "ax.yaxis.set_ticklabels([ 'Genuíno' , 'Fraude' ]) \n",
    "plt.show()"
   ]
  },
  {
   "cell_type": "code",
   "execution_count": null,
   "metadata": {},
   "outputs": [],
   "source": [
    "# Métricas de avaliação para\n",
    "\n",
    "gradiente_boosting_metric = [['Accurary', (accuracy_score(y_test, y_prediction_gb))],\n",
    "                        ['Precision', (precision_score(y_test, y_prediction_gb))],\n",
    "                        ['Recall', (recall_score(y_test, y_prediction_gb))],\n",
    "                        ['F1_score', f1_score(y_test, y_prediction_gb)]]\n",
    "\n",
    "metricas_gb = pd.DataFrame(gradiente_boosting_metric, columns=[\"Métrica\", \"Resultados\"])\n",
    "metricas_gb"
   ]
  },
  {
   "cell_type": "code",
   "execution_count": null,
   "metadata": {},
   "outputs": [],
   "source": [
    "# Matriz de confusão para Gradient Boost\n",
    "\n",
    "confusion_matrix_gb = confusion_matrix(y_test, y_prediction_gb)\n",
    "\n",
    "# Visualização\n",
    "\n",
    "plt.figure(figsize=(10, 7))\n",
    "ax = plt.subplot()\n",
    "sns.heatmap(confusion_matrix_gb, annot=True, fmt=\"g\", ax= ax)\n",
    "ax.set_xlabel( 'Valores Previstos' ) \n",
    "ax.set_ylabel( 'Valores Reais' ) \n",
    "ax.set_title( 'Matriz de Confusão - Gradient Boost' ) \n",
    "ax.xaxis.set_ticklabels([ 'Genuíno' , 'Fraude' ]) \n",
    "ax.yaxis.set_ticklabels([ 'Genuíno' , 'Fraude' ]) \n",
    "plt.show()"
   ]
  }
 ],
 "metadata": {
  "kernelspec": {
   "display_name": "venv",
   "language": "python",
   "name": "python3"
  },
  "language_info": {
   "codemirror_mode": {
    "name": "ipython",
    "version": 3
   },
   "file_extension": ".py",
   "mimetype": "text/x-python",
   "name": "python",
   "nbconvert_exporter": "python",
   "pygments_lexer": "ipython3",
   "version": "3.11.0"
  },
  "orig_nbformat": 4
 },
 "nbformat": 4,
 "nbformat_minor": 2
}
